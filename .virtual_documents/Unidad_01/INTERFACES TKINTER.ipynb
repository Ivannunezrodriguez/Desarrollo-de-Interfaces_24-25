





from tkinter import *

root = Tk()

root.config(bd=20)
root.title("Ejemplo tkinter grid")
# root.geometry("800x600+250+400") 
root.resizable(1,1)
root.iconbitmap("seta.ico")

imagen = PhotoImage(file="seta.png").subsample(2)

Label(root, image = imagen).grid(row=0, column=1)
Label(root, text="").grid(row=1,column=0)
Label(root, text="Etiqueta 1").grid(row=2,column=0)
Label(root, text="Etiqueta 2").grid(row=3,column=0)
Label(root, text="").grid(row=4,column=0)

eti1 = Entry(root)
eti2 = Entry(root)

eti1.grid(columnspan=4, row=2,column=1)
eti2.grid(columnspan=4, row=3,column=1)

Button(root, text="Aceptar").grid(row=5, column=1)
Button(root, text="Cerrar").grid(row=5, column=2)

root.mainloop()


from tkinter import *

def sumar():
    resultado.set(float(num1.get()) + float(num2.get()))

def restar():
    resultado.set(float(num1.get()) - float(num2.get()))

def multi():
    resultado.set(float(num1.get()) * float(num2.get()))

def borrar():
    num1.set("")
    num2.set("")
    resultado.set("")
    
# VENTA DE ALTAS

def altas():
    venaltas = Toplevel()
        
    imagen = PhotoImage(file="seta.png").subsample(2)
    Label(venaltas, image = imagen).pack()
    Label(venaltas, text="Primer número").pack()
 
        
    venaltas.mainloop()
    
# Configuración Ventana

root = Tk()
root.config(bd=30)
root.title("Calculadora")
root.resizable(1,1)

# Declaración de variables

num1 = StringVar()
num2 = StringVar()
resultado = StringVar()

# Componentes interfaz

Label(root, text="Primer número").pack()
Entry(root, justify="center", textvariable=num1).pack()

Label(root, text="Segundo número").pack()
Entry(root, justify="center", textvariable=num2).pack()

Label(root, text="Resultado").pack()
Entry(root, justify="center", textvariable=resultado, state="disabled").pack()

Label(root, text="").pack() # Espacio de linea vacía

Button(root, text="Sumar", command=sumar).pack(side="left")
Button(root, text="Restar", command=restar).pack(side="left")
Button(root, text="Multiplicar", command=multi).pack(side="left")
Button(root, text="Borrar", command=borrar).pack(side="left")
Button(root, text="Altas", command=altas).pack(side="left")

root.mainloop()





from tkinter import *

def seleccionar():
    cadena = ""
    if(leche.get()):
        cadena += "Con leche"
    else:
        cadena += "Sin leche"
    
    if(azucar.get()):
        cadena += " y con azúcar"
    else:
        cadena += " y sin azúcar"

    pantalla.config(text=cadena)

# PANTALLA RAIZ
root = Tk()
root.title("CAFETERA")
root.config(bd=15)

leche = IntVar() # 1 si, 0 no
azucar = IntVar() # 1 si, 0 no

imagen = PhotoImage(file="imagen.gif")
Label(root, image=imagen).pack(side="left")

frame = Frame(root)
frame.pack(side="left")

Label(frame,text="¿Como quieres tu café?").pack(anchor="w")
Checkbutton(frame, text="Con leche",variable=leche, onvalue=1, offvalue=0, command=seleccionar).pack(anchor="w")
Checkbutton(frame, text="Con azúcar",variable=azucar, onvalue=1, offvalue=0, command=seleccionar).pack(anchor="w")

pantalla = Label(frame)
pantalla.pack()

# fINAL BUCLE DEL INTERFAZ
root.mainloop()





from tkinter import *
from tkinter import filedialog as FileDialog
from io import open

def nuevo():
    global ruta 
    mensaje.set("Nuevo fichero")
    ruta = ""
    texto.delete(1.0,"end")
    root.title("Mi editor")

def abrir():
    global ruta
    mensaje.set("Abrir fichero")
    ruta = FileDialog.askopenfilename(
    initialdir='.',
    filetype=(("Ficheros de texto","*.txt"),),
    title="Abrir un fichero de texto")
    
    if ruta != "":
        fichero = open(ruta,"r")
        contenido = fichero.read()
        texto.delete(1.0,"end")
        texto.insert("insert", contenido)
        fichero.close()
        root.title(ruta + " - Python Editor")

def guardar():
    mensaje.set("Guardar fichero")
    if ruta != "":
        contenido = texto.get(1.0,"end-1c")
        fichero = open(ruta,"w+")
        fichero.write(contenido)
        fichero.close()
        mensaje.set("Fichero guardado correctamente")
    else:
        mensaje.set("Guardar fichero cancelado")
        ruta = ""

def guardarcomo():
    global ruta
    mensaje.set("Guardar fichero como")
    fichero = FileDialog.asksaveasfile(title="Guarda fichero", mode="w", defaultextension=".txt")
    if fichero is not None:
        ruta = fichero.name
        contenido = texto.get(1.0,"end-1c")
        fichero = open(ruta, "w+")
        fichero.write(contenido)
        fichero.close()
        mensaje.set("Fichero guardado correctamente")
    else:
        mensaje.set("Guardar como cancelado")
        ruta = ""

# Pantalla raiz
root =Tk()
root.title("Python Editor")

# Menu Archivo
menubar = Menu(root)
filemenu = Menu(menubar,tearoff=0)
filemenu.add_command(label="Nuevo", command=nuevo)
filemenu.add_command(label="Abrir", command=abrir)
filemenu.add_command(label="Guardar", command=guardar)
filemenu.add_command(label="Guardar como", command=guardarcomo)
filemenu.add_separator()
filemenu.add_command(label="Salir", command=root.destroy)
menubar.add_cascade(menu=filemenu, label="Archivo")

# Edición fichero
# Reto añadir otro menu desplegable



# Zona de edición central
texto = Text(root)
texto.pack(fill="both", expand=1)
texto.config(bd=0, padx=6,pady=4,font=("Consolas",12))

# Monitor de mensaje
mensaje = StringVar()
mensaje.set("Bienvenido a Python Editor, tu editor preferido")
monitor = Label(root,textvar=mensaje, justify='left')
monitor.pack(side="left")

# Inclusión del menú desplegable en menu superior
root.config(menu=menubar)

root.mainloop()





from tkinter import *

root = Tk()
root.title("Ejemplo Grid")
root.resizable(0,0)
root.config(bd=20) # Espacio entre borde y contenido

# root.iconbitmap('seta.ico')
#imagen = PhotoImage(file="seta.png").subsample(1)
# Label(root, image = imagen).grid(columnspan=6, row=0, column=0)
# Label(root, text="").grid(row=1, column=0)

Label(root, text="Etiqueta 1").grid(row=2,column=0, padx=10, pady=5)
Label(root, text="Etiqueta 2").grid(row=3, column=0, padx=10, pady=5)

Entry(root).grid(row=2, column=1)
Entry(root).grid(row=3, column=1)

Label(root, text="Etiqueta 3").grid(row=2,column=2, padx=5, pady=5)
Label(root, text="Etiqueta 4").grid(row=3,column=2, padx=5, pady=5)

Entry(root).grid(columnspan=3, row=2, column=3)
Entry(root).grid(columnspan=3, row=3, column=3)

Label(root, text="").grid(row=4, column=0)

Label(root, text="Etiqueta 5").grid(row=5,column=0, padx=5, pady=5)
Label(root, text="Etiqueta 6").grid(row=6,column=0, padx=5, pady=5)

Entry(root).grid(row=5,column=1,columnspan=5, pady=5, sticky=EW)
Entry(root).grid(row=6,column=1,columnspan=5, pady=5, sticky=EW)

Button(root, text="Aceptar").grid(row=7, column=0, columnspan=2, sticky=EW)
Button(root, text="Borrar").grid(row=7, column=2, columnspan=4, sticky=EW)

root.mainloop()
